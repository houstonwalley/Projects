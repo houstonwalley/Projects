import matplotlib.pyplot as plt
import math

#Gravity
g = -9.81

#Gets the starting height, velocity, and launch angle
print('What is the height(meters) of the launcher?')
h = float(input())
print('What is the starting velocity(meters per second) of the object?')
v = float(input())
print('What is the angle(degrees) of the launch?')
t = float(input())
theta = math.radians(t)

#Finds the components of the velocity and the starting points
#Also it sets the time to zero
x_velocity = v * math.cos(theta)
y_velocity = v * math.sin(theta)
curr_x = 0
curr_y = h
#Calculates how long the object will be in the air
last_velocity = -(math.sqrt((y_velocity**2) + (2 * g * (0 - h))))
last_time = (last_velocity - y_velocity) / g

#Finds the amount of times the loop will iterate minus the
#iteration the ball hits the ground
n = int(last_time)
rem_time = last_time % 1

#Checks if last_time is an integer and adjusts the iteration amount
if rem_time < .1:
  n = n - 1

#Plots the course of the object every one second
#Also plots when the object hits the ground
plt.scatter(curr_x, curr_y, color='BLUE')

for i in range(1, n + 1):
  curr_x += x_velocity
  y_velocity += g
  curr_y += (y_velocity * i) - (.5 * g * (i**2))
  plt.scatter(curr_x, curr_y, color='BLACK')
  curr_y = h

curr_x += x_velocity * rem_time
y_velocity += g * rem_time
curr_y += (y_velocity * last_time) - (.5 * g * (last_time**2))
plt.scatter(curr_x, curr_y, color='RED')
